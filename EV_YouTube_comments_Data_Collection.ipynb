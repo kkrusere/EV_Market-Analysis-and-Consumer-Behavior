{
  "nbformat": 4,
  "nbformat_minor": 0,
  "metadata": {
    "colab": {
      "provenance": [],
      "authorship_tag": "ABX9TyMxhcnkF8zH+FawyaEOWslk",
      "include_colab_link": true
    },
    "kernelspec": {
      "name": "python3",
      "display_name": "Python 3"
    },
    "language_info": {
      "name": "python"
    }
  },
  "cells": [
    {
      "cell_type": "markdown",
      "metadata": {
        "id": "view-in-github",
        "colab_type": "text"
      },
      "source": [
        "<a href=\"https://colab.research.google.com/github/kkrusere/EV_Market-Analysis-and-Consumer-Behavior/blob/main/EV_YouTube_comments_Data_Collection.ipynb\" target=\"_parent\"><img src=\"https://colab.research.google.com/assets/colab-badge.svg\" alt=\"Open In Colab\"/></a>"
      ]
    },
    {
      "cell_type": "code",
      "source": [
        "%%shell\n",
        "sudo apt -y update\n",
        "sudo apt install -y wget curl unzip\n",
        "wget http://archive.ubuntu.com/ubuntu/pool/main/libu/libu2f-host/libu2f-udev_1.1.4-1_all.deb\n",
        "dpkg -i libu2f-udev_1.1.4-1_all.deb\n",
        "wget https://dl.google.com/linux/direct/google-chrome-stable_current_amd64.deb\n",
        "dpkg -i google-chrome-stable_current_amd64.deb\n",
        "\n",
        "wget -N https://edgedl.me.gvt1.com/edgedl/chrome/chrome-for-testing/118.0.5993.70/linux64/chromedriver-linux64.zip -P /tmp/\n",
        "unzip -o /tmp/chromedriver-linux64.zip -d /tmp/\n",
        "chmod +x /tmp/chromedriver-linux64/chromedriver\n",
        "mv /tmp/chromedriver-linux64/chromedriver /usr/local/bin/chromedriver\n",
        "pip install selenium chromedriver_autoinstaller"
      ],
      "metadata": {
        "id": "CtlOdGSRFVMH"
      },
      "execution_count": null,
      "outputs": []
    },
    {
      "cell_type": "markdown",
      "source": [
        "# Web Scraping and Data Retrieval\n",
        "\n",
        "\n",
        "## Dependencies:\n",
        " - Selenium WebDriver: Ensure you have selenium, chromedriver_autoinstaller, and a compatible version of ChromeDriver installed.\n",
        " - BeautifulSoup: Required for parsing HTML content (bs4 library).\n"
      ],
      "metadata": {
        "id": "tCSJI-ILBb0y"
      }
    },
    {
      "cell_type": "code",
      "execution_count": null,
      "metadata": {
        "id": "bw4xd9OyAye6"
      },
      "outputs": [],
      "source": [
        "import time\n",
        "from selenium import webdriver\n",
        "from selenium.common.exceptions import TimeoutException\n",
        "from selenium.webdriver.common.by import By\n",
        "from selenium.webdriver.support import expected_conditions as EC\n",
        "from selenium.webdriver.support.ui import WebDriverWait\n",
        "from bs4 import BeautifulSoup\n",
        "import chromedriver_autoinstaller\n"
      ]
    },
    {
      "cell_type": "markdown",
      "source": [
        "1. WebDriver Management\n",
        "- `init_webdriver()`\n",
        "  * Purpose: Initializes a headless Chrome WebDriver instance with specified options for automated browser interactions.\n",
        "  * Dependencies: Requires selenium, chromedriver_autoinstaller, and a compatible version of ChromeDriver."
      ],
      "metadata": {
        "id": "JvbP_mi5Bil4"
      }
    },
    {
      "cell_type": "code",
      "source": [
        "def init_webdriver():\n",
        "    \"\"\"Initializes and returns a Chrome WebDriver instance with options.\"\"\"\n",
        "    try:\n",
        "        chrome_options = webdriver.ChromeOptions()\n",
        "        chrome_options.add_argument(\"--headless\")  # Run in headless mode\n",
        "        chrome_options.add_argument(\"--no-sandbox\")\n",
        "        chrome_options.add_argument(\"--disable-dev-shm-usage\")\n",
        "        chromedriver_autoinstaller.install()  # Automatically install chromedriver\n",
        "        driver = webdriver.Chrome(options=chrome_options)\n",
        "        print(\"WebDriver initialized successfully\")\n",
        "        return driver\n",
        "    except Exception as e:\n",
        "        print(f\"Failed to initialize WebDriver: {e}\")\n",
        "        raise\n"
      ],
      "metadata": {
        "id": "FHdcTFB2Bnfl"
      },
      "execution_count": 1,
      "outputs": []
    },
    {
      "cell_type": "markdown",
      "source": [
        "- `close_webdriver(driver)`\n",
        "  * Purpose: Closes the WebDriver instance to free up system resources."
      ],
      "metadata": {
        "id": "-I4MVThZBt4-"
      }
    },
    {
      "cell_type": "code",
      "source": [
        "def close_webdriver(driver):\n",
        "    \"\"\"Closes the provided WebDriver instance.\"\"\"\n",
        "    driver.quit()\n",
        "    print(\"WebDriver successfully closed\")\n"
      ],
      "metadata": {
        "id": "wrG_fyAXBtBB"
      },
      "execution_count": null,
      "outputs": []
    },
    {
      "cell_type": "markdown",
      "source": [
        "2. YouTube URL and Video ID Handling\n",
        "- `get_youtube_url(video_id)`\n",
        " - Purpose: Creates a standard YouTube video URL using the provided video ID."
      ],
      "metadata": {
        "id": "bDSkbPKZCT8Y"
      }
    },
    {
      "cell_type": "code",
      "source": [
        "def get_youtube_url(video_id):\n",
        "    \"\"\"Constructs a YouTube URL from a given video ID.\"\"\"\n",
        "    return f\"https://www.youtube.com/watch?v={video_id}\"\n"
      ],
      "metadata": {
        "id": "Z5ukZ95SCaDi"
      },
      "execution_count": null,
      "outputs": []
    },
    {
      "cell_type": "markdown",
      "source": [
        "- `get_youtube_videoID(youtube_url)`\n",
        " - Purpose: Extracts the video ID from various formats of YouTube URLs, handling both standard and shortened links."
      ],
      "metadata": {
        "id": "iUn1Wik3CsUz"
      }
    },
    {
      "cell_type": "code",
      "source": [
        "def get_youtube_videoID(youtube_url):\n",
        "    \"\"\"Extracts the YouTube video ID from a given YouTube URL.\"\"\"\n",
        "    if not youtube_url:\n",
        "        return None\n",
        "    try:\n",
        "        if \"watch?v=\" in youtube_url:\n",
        "            video_id = youtube_url.split(\"watch?v=\")[1].split(\"&\")[0]\n",
        "            return video_id\n",
        "        elif \"youtu.be/\" in youtube_url:\n",
        "            video_id = youtube_url.split(\"youtu.be/\")[1].split(\"?\")[0]\n",
        "            return video_id\n",
        "        else:\n",
        "            return None\n",
        "    except Exception as e:\n",
        "        print(f\"Error extracting video ID: {e}\")\n",
        "        return None\n"
      ],
      "metadata": {
        "id": "TGkd5IINC0d0"
      },
      "execution_count": 2,
      "outputs": []
    },
    {
      "cell_type": "code",
      "source": [],
      "metadata": {
        "id": "6212My5PC3X5"
      },
      "execution_count": null,
      "outputs": []
    },
    {
      "cell_type": "markdown",
      "source": [
        "3. Comment Fetching and Parsing\n",
        "- `get_comments_html(video_url, driver)`\n",
        " - Purpose: Scrolls through the YouTube video page to dynamically load all comments and retrieves the HTML content.\n",
        " - Notes: Uses JavaScript execution for scrolling and waits to handle dynamic content loading."
      ],
      "metadata": {
        "id": "MUI45t9iC9MS"
      }
    },
    {
      "cell_type": "code",
      "source": [
        "def get_comments_html(video_url, driver):\n",
        "    \"\"\"\n",
        "    Fetches the HTML content of the comments section from a YouTube video.\n",
        "\n",
        "    Args:\n",
        "        video_url (str): The URL of the YouTube video from which to fetch comments.\n",
        "        driver: An initialized WebDriver instance (from Selenium).\n",
        "\n",
        "    Returns:\n",
        "        str: The HTML content of the comments section.\n",
        "\n",
        "    Raises:\n",
        "        TimeoutException: If the comments section does not load within the specified time.\n",
        "    \"\"\"\n",
        "    # Navigate to the video URL\n",
        "    driver.get(video_url)\n",
        "\n",
        "    # Wait until the comments section is loaded\n",
        "    WebDriverWait(driver, 10).until(\n",
        "        EC.presence_of_element_located((By.CSS_SELECTOR, \"ytd-comments\"))\n",
        "    )\n",
        "\n",
        "    # Scroll to the comments section to load initial comments\n",
        "    driver.execute_script(\n",
        "        \"window.scrollTo(0, document.documentElement.scrollHeight);\"\n",
        "    )\n",
        "\n",
        "    # Initialize variables for dynamic scrolling\n",
        "    last_height = driver.execute_script(\n",
        "        \"return document.documentElement.scrollHeight\"\n",
        "    )\n",
        "    scroll_pause_time = 2  # Time to wait between scrolls\n",
        "    max_scrolls = 100      # Max number of scrolls to ensure all comments are loaded\n",
        "    scroll_count = 0\n",
        "\n",
        "    while scroll_count < max_scrolls:\n",
        "        # Scroll down to the bottom\n",
        "        driver.execute_script(\n",
        "            \"window.scrollTo(0, document.documentElement.scrollHeight);\"\n",
        "        )\n",
        "\n",
        "        # Wait for new comments to load\n",
        "        time.sleep(scroll_pause_time)\n",
        "\n",
        "        # Calculate new scroll height and compare with last height\n",
        "        new_height = driver.execute_script(\n",
        "            \"return document.documentElement.scrollHeight\"\n",
        "        )\n",
        "        if new_height == last_height:\n",
        "            # Break if no new content is loaded\n",
        "            print(\"All comments have been loaded.\")\n",
        "            break\n",
        "        last_height = new_height\n",
        "        scroll_count += 1\n",
        "\n",
        "    # Get the HTML content\n",
        "    comments_html = driver.page_source\n",
        "    return comments_html\n"
      ],
      "metadata": {
        "id": "al1FKpYoDMUV"
      },
      "execution_count": null,
      "outputs": []
    },
    {
      "cell_type": "markdown",
      "source": [
        "- `get_comment_thread_renderers(comments_html)`\n",
        " - Purpose: Parses the HTML content using BeautifulSoup to find all comment thread elements.\n"
      ],
      "metadata": {
        "id": "voN9HKYXDYO7"
      }
    },
    {
      "cell_type": "code",
      "source": [
        "def get_comment_thread_renderers(comments_html):\n",
        "    \"\"\"\n",
        "    Parses the provided HTML content to extract YouTube comment threads.\n",
        "\n",
        "    Args:\n",
        "        comments_html (str): The HTML content of the comments section of a YouTube video.\n",
        "\n",
        "    Returns:\n",
        "        list: A list of `ytd-comment-thread-renderer` elements found in the HTML.\n",
        "    \"\"\"\n",
        "    soup = BeautifulSoup(comments_html, \"html.parser\")\n",
        "    comment_thread_renderers = soup.find_all(\n",
        "        \"ytd-comment-thread-renderer\",\n",
        "        class_=\"style-scope ytd-item-section-renderer\",\n",
        "    )\n",
        "    return comment_thread_renderers\n"
      ],
      "metadata": {
        "id": "e8zJsvJMDkZ-"
      },
      "execution_count": null,
      "outputs": []
    },
    {
      "cell_type": "markdown",
      "source": [
        "- `get_comments(comment_thread_renderers)`\n",
        " - Purpose: Extracts individual comment texts, like counts, and reply counts from the parsed HTML elements.\n",
        " - Notes: Handles potential variations in YouTube's HTML structure."
      ],
      "metadata": {
        "id": "kjC6opMODoOq"
      }
    },
    {
      "cell_type": "code",
      "source": [
        "def get_comments(comment_thread_renderers):\n",
        "    \"\"\"\n",
        "    Extracts comments and associated data from the list of comment thread renderers.\n",
        "\n",
        "    Args:\n",
        "        comment_thread_renderers (list): List of 'ytd-comment-thread-renderer' elements.\n",
        "\n",
        "    Returns:\n",
        "        tuple: A tuple containing a list of comment texts and a list of dictionaries with comment data.\n",
        "    \"\"\"\n",
        "    comments = []\n",
        "    comments_data = []\n",
        "\n",
        "    for comment_thread_renderer in comment_thread_renderers:\n",
        "        # Extract the comment text\n",
        "        comment_text_element = comment_thread_renderer.find(\n",
        "            \"yt-formatted-string\", id=\"content-text\"\n",
        "        )\n",
        "        comment_text = (\n",
        "            comment_text_element.get_text(strip=True)\n",
        "            if comment_text_element\n",
        "            else None\n",
        "        )\n",
        "\n",
        "        # Extract the number of likes\n",
        "        like_count_element = comment_thread_renderer.find(\n",
        "            \"span\", id=\"vote-count-middle\"\n",
        "        )\n",
        "        like_count = (\n",
        "            like_count_element.get_text(strip=True)\n",
        "            if like_count_element\n",
        "            else None\n",
        "        )\n",
        "\n",
        "        # Extract the number of replies\n",
        "        reply_count_element = comment_thread_renderer.find(\n",
        "            \"ytd-comment-replies-renderer\"\n",
        "        )\n",
        "        reply_count = (\n",
        "            reply_count_element.get(\"reply-count\")\n",
        "            if reply_count_element\n",
        "            else None\n",
        "        )\n",
        "\n",
        "        comments.append(comment_text)\n",
        "        comments_data.append(\n",
        "            {\n",
        "                \"comment_text\": comment_text,\n",
        "                \"like_count\": like_count,\n",
        "                \"reply_count\": reply_count,\n",
        "            }\n",
        "        )\n",
        "\n",
        "    return comments, comments_data\n"
      ],
      "metadata": {
        "id": "lKMWFj8VDzZo"
      },
      "execution_count": null,
      "outputs": []
    },
    {
      "cell_type": "markdown",
      "source": [
        "- `get_video_comments(video_url, driver)`\n",
        " - Purpose: Combines the above functions to retrieve and structure comment data for a given video."
      ],
      "metadata": {
        "id": "I2GzVc0tD4fP"
      }
    },
    {
      "cell_type": "code",
      "source": [
        "def get_video_comments(video_url, driver):\n",
        "    \"\"\"\n",
        "    Retrieves comments from the provided YouTube video URL.\n",
        "\n",
        "    Args:\n",
        "        video_url (str): The URL of the YouTube video.\n",
        "        driver: An initialized WebDriver instance.\n",
        "\n",
        "    Returns:\n",
        "        list: A list of dictionaries containing comment data.\n",
        "    \"\"\"\n",
        "    comments_html = get_comments_html(video_url, driver)\n",
        "    comment_thread_renderers = get_comment_thread_renderers(comments_html)\n",
        "    _, comments_data = get_comments(comment_thread_renderers)\n",
        "    return comments_data\n"
      ],
      "metadata": {
        "id": "9xOakbsrD-lA"
      },
      "execution_count": null,
      "outputs": []
    },
    {
      "cell_type": "markdown",
      "source": [
        "4. Video Data Retrieval\n",
        "- `get_video_data(video_id)`\n",
        "\n",
        " - Purpose: Navigates to the YouTube video page, handles potential consent and modal dialogs, extracts video metadata (channel name, title, description), and retrieves comments.\n",
        "\n",
        " - Notes:\n",
        "   - Error Handling: Includes try-except blocks to handle exceptions and ensure the WebDriver is closed properly.\n",
        "   - Selectors: Uses CSS selectors and XPaths to locate elements on the page.\n"
      ],
      "metadata": {
        "id": "Qr-wOFk4EOJ9"
      }
    },
    {
      "cell_type": "code",
      "source": [
        "def get_video_data(video_id):\n",
        "    \"\"\"\n",
        "    Fetches video data from YouTube given a video ID.\n",
        "\n",
        "    Args:\n",
        "        video_id (str): The ID of the YouTube video to fetch data for.\n",
        "\n",
        "    Returns:\n",
        "        dict: A dictionary containing the video data with keys:\n",
        "            - 'channel_name'\n",
        "            - 'video_title'\n",
        "            - 'video_description'\n",
        "            - 'comments'\n",
        "    \"\"\"\n",
        "    driver = init_webdriver()\n",
        "    video_url = get_youtube_url(video_id)\n",
        "    video_data = {}\n",
        "\n",
        "    try:\n",
        "        driver.get(video_url)\n",
        "\n",
        "        # Handle YouTube consent dialog if it appears\n",
        "        try:\n",
        "            consent_button = WebDriverWait(driver, 10).until(\n",
        "                EC.element_to_be_clickable(\n",
        "                    (By.XPATH, '//button[contains(text(), \"I agree\")]')\n",
        "                )\n",
        "            )\n",
        "            consent_button.click()\n",
        "        except TimeoutException:\n",
        "            print(\"No consent dialog found or already handled.\")\n",
        "\n",
        "        # Handle any other potential modal dialogs\n",
        "        try:\n",
        "            dialog_close_button = WebDriverWait(driver, 5).until(\n",
        "                EC.element_to_be_clickable(\n",
        "                    (By.XPATH, '//button[@aria-label=\"Close\"]')\n",
        "                )\n",
        "            )\n",
        "            dialog_close_button.click()\n",
        "        except TimeoutException:\n",
        "            print(\"No additional modal dialogs found.\")\n",
        "\n",
        "        # Extract video details\n",
        "        try:\n",
        "            # Wait for page elements to load\n",
        "            WebDriverWait(driver, 20).until(\n",
        "                EC.presence_of_element_located((By.ID, \"info-contents\"))\n",
        "            )\n",
        "\n",
        "            # Extract channel name\n",
        "            channel_name_element = driver.find_element(\n",
        "                By.CSS_SELECTOR, 'ytd-channel-name#channel-name a'\n",
        "            )\n",
        "            channel_name = channel_name_element.text\n",
        "\n",
        "            # Extract video title\n",
        "            title_element = driver.find_element(\n",
        "                By.CSS_SELECTOR, 'h1.title yt-formatted-string'\n",
        "            )\n",
        "            video_title = title_element.text\n",
        "\n",
        "            # Expand the description if the expand button exists\n",
        "            try:\n",
        "                expand_button = driver.find_element(\n",
        "                    By.CSS_SELECTOR, 'tp-yt-paper-button#expand'\n",
        "                )\n",
        "                driver.execute_script(\"arguments[0].click();\", expand_button)\n",
        "            except Exception:\n",
        "                pass  # Description is already expanded or expand button not found\n",
        "\n",
        "            # Extract video description\n",
        "            description_element = driver.find_element(\n",
        "                By.CSS_SELECTOR, 'yt-formatted-string.content'\n",
        "            )\n",
        "            video_description = description_element.text\n",
        "\n",
        "            video_data = {\n",
        "                \"channel_name\": channel_name,\n",
        "                \"video_title\": video_title,\n",
        "                \"video_description\": video_description,\n",
        "            }\n",
        "\n",
        "            # Fetch comments\n",
        "            comments_data = get_video_comments(video_url, driver)\n",
        "            video_data[\"comments\"] = comments_data\n",
        "\n",
        "        except TimeoutException as e:\n",
        "            print(f\"Error processing {video_url}: {e}\")\n",
        "\n",
        "    except Exception as e:\n",
        "        print(f\"Error processing {video_url}: {e}\")\n",
        "\n",
        "    finally:\n",
        "        # Close the browser\n",
        "        close_webdriver(driver)\n",
        "\n",
        "    return video_data\n"
      ],
      "metadata": {
        "id": "aCc2q_lKExoF"
      },
      "execution_count": null,
      "outputs": []
    },
    {
      "cell_type": "code",
      "source": [],
      "metadata": {
        "id": "OTrPkPVXE6OS"
      },
      "execution_count": null,
      "outputs": []
    },
    {
      "cell_type": "code",
      "source": [
        "def main(youtube_url):\n",
        "    \"\"\"\n",
        "    Main function to execute the data retrieval steps.\n",
        "    \"\"\"\n",
        "    video_id = get_youtube_videoID(youtube_url)\n",
        "    if not video_id:\n",
        "        print(\"Invalid YouTube URL.\")\n",
        "        return\n",
        "\n",
        "    # Step 1: Fetch video data without cleaning description\n",
        "    video_data = get_video_data(video_id)\n",
        "    if not video_data:\n",
        "        print(\"Failed to retrieve video data.\")\n",
        "        return\n",
        "\n",
        "    # The video_data now contains:\n",
        "    # - 'channel_name'\n",
        "    # - 'video_title'\n",
        "    # - 'video_description' (original, uncleaned)\n",
        "    # - 'comments' (list of comment data)\n",
        "\n"
      ],
      "metadata": {
        "id": "_oBwS0cpF7XE"
      },
      "execution_count": null,
      "outputs": []
    },
    {
      "cell_type": "code",
      "source": [],
      "metadata": {
        "id": "BCJRHiniIfZO"
      },
      "execution_count": null,
      "outputs": []
    },
    {
      "cell_type": "markdown",
      "source": [
        "Using the above functions, we now focus on creating a Lambda function that performs the Web Scraping and Data Retrieval functions. This will make it easy to intergrate to the final Streamlit Dashboard.\n",
        "\n",
        "Creating a Lambda function that uses Selenium and headless Chrome to scrape YouTube data involves several steps due to the dependencies and environment setup required."
      ],
      "metadata": {
        "id": "aEQT-1xWIgHh"
      }
    },
    {
      "cell_type": "code",
      "source": [],
      "metadata": {
        "id": "OpZ-g1HDI9Y1"
      },
      "execution_count": null,
      "outputs": []
    },
    {
      "cell_type": "markdown",
      "source": [
        "# Overview\n",
        "\n",
        "- **Goal:** Create an AWS Lambda function that performs web scraping of YouTube video data, including comments and metadata.\n",
        "- **Challenges:** AWS Lambda has limitations on deployment package size.\n",
        "Selenium and headless Chrome require native binaries and specific configurations.\n",
        "- **Solution:** Use AWS Lambda Layers to include the necessary binaries and libraries, and package the Python code with its dependencies."
      ],
      "metadata": {
        "id": "6q7JKlHHI98k"
      }
    },
    {
      "cell_type": "code",
      "source": [],
      "metadata": {
        "id": "ducVe1fgJQEG"
      },
      "execution_count": null,
      "outputs": []
    }
  ]
}